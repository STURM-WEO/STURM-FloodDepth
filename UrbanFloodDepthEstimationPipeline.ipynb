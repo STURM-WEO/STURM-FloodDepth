{
 "cells": [
  {
   "cell_type": "markdown",
   "metadata": {},
   "source": [
    "# Libraries"
   ]
  },
  {
   "cell_type": "code",
   "execution_count": 1,
   "metadata": {},
   "outputs": [],
   "source": [
    "import sys\n",
    "sys.path.append('..') \n",
    "sys.path.append('.') "
   ]
  },
  {
   "cell_type": "code",
   "execution_count": 2,
   "metadata": {},
   "outputs": [],
   "source": [
    "%load_ext autoreload\n",
    "%autoreload 2"
   ]
  },
  {
   "cell_type": "code",
   "execution_count": 16,
   "metadata": {},
   "outputs": [],
   "source": [
    "import os\n",
    "import json\n",
    "import tarfile\n",
    "from tqdm import tqdm\n",
    "\n",
    "from ultralytics import YOLOWorld\n",
    "\n",
    "import cv2\n",
    "from cv2 import dnn_superres\n",
    "\n",
    "import pandas as pd\n",
    "import numpy as np\n",
    "\n",
    "import tensorflow as tf\n",
    "\n",
    "from IPython.display import display, HTML\n",
    "import matplotlib.pyplot as plt\n",
    "\n",
    "from adjustText import adjust_text\n",
    "\n",
    "from pathlib import Path\n",
    "\n",
    "from matplotlib import rcParams\n"
   ]
  },
  {
   "cell_type": "code",
   "execution_count": 4,
   "metadata": {},
   "outputs": [],
   "source": [
    "from functions.cardetection import detect_cars\n",
    "from functions.imgprocessing import visualize_random_batch, crop_detected_vehicles, load_image_as_bytes\n",
    "from functions.superresolution import superresolve_images"
   ]
  },
  {
   "cell_type": "code",
   "execution_count": null,
   "metadata": {},
   "outputs": [],
   "source": [
    "# Enable LaTeX rendering for elegant text, comment if no available TeX distribution\n",
    "rcParams['text.usetex'] = True\n",
    "rcParams['font.family'] = 'serif'\n",
    "rcParams['text.latex.preamble'] = r'\\usepackage{mathpazo}'\n",
    "plt.rcParams['axes.axisbelow'] = True\n",
    "\n",
    "\n",
    "\n",
    "\n",
    "# Define colors\n",
    "box_color = (86, 0, 50)  # Dark red for bounding boxes\n",
    "text_color = (86, 0, 50)  # Same color for text"
   ]
  },
  {
   "cell_type": "markdown",
   "metadata": {},
   "source": [
    "# Global variables"
   ]
  },
  {
   "cell_type": "code",
   "execution_count": 5,
   "metadata": {},
   "outputs": [],
   "source": [
    "IMAGE_EXTENSIONS = (\n",
    "        '.bmp', '.dib',           # Windows bitmaps\n",
    "        '.jpeg', '.jpg', '.jpe',  # JPEG files\n",
    "        '.jp2',                   # JPEG 2000 files\n",
    "        '.png',                   # Portable Network Graphics\n",
    "        '.webp',                  # WebP files\n",
    "        '.avif',                  # AVIF files\n",
    "        '.pbm', '.pgm', '.ppm', '.pxm', '.pnm',  # Portable image formats\n",
    "        '.pfm',                   # PFM files\n",
    "        '.sr', '.ras',            # Sun rasters\n",
    "        '.tiff', '.tif',          # TIFF files\n",
    "        '.exr',                   # OpenEXR Image files\n",
    "        '.hdr', '.pic'            # Radiance HDR\n",
    "    )"
   ]
  },
  {
   "cell_type": "code",
   "execution_count": null,
   "metadata": {},
   "outputs": [],
   "source": [
    "ORIGINAL_IMAGE_DIR = \"sample\"\n",
    "ORIGINAL_IMAGE_PATHS = [os.path.join(ORIGINAL_IMAGE_DIR, f) for f in os.listdir(ORIGINAL_IMAGE_DIR) if f.lower().endswith(IMAGE_EXTENSIONS)]\n",
    "print(f\"{len(ORIGINAL_IMAGE_PATHS)} image(s) found in {ORIGINAL_IMAGE_DIR} folder.\")"
   ]
  },
  {
   "cell_type": "code",
   "execution_count": null,
   "metadata": {},
   "outputs": [],
   "source": [
    "OUTPUT_DIR = \"outputs/exp\"\n",
    "\n",
    "DETECTION_DIR = f\"{OUTPUT_DIR}/0_detection\"\n",
    "LABEL_DIR = f\"{OUTPUT_DIR}/0_detection/labels\"\n",
    "CROPPED_DIR = f\"{OUTPUT_DIR}/1_cropped_vehicles\"\n",
    "\n",
    "SUPERRESOLVED_DIR = f\"{OUTPUT_DIR}/2_super_resolution\"\n",
    "sr_csv_path = f\"{OUTPUT_DIR}/2_super_resolution/rescaling_stats.csv\"\n",
    "\n",
    "ic_csv_path= f\"{OUTPUT_DIR}/3_classification/classification_results.csv\"\n",
    "\n",
    "ANNOTATED_IMG_DIR = f\"{OUTPUT_DIR}/annotated_images/\"\n",
    "\n",
    "\n",
    "dirs = [LABEL_DIR, CROPPED_DIR, SUPERRESOLVED_DIR, ANNOTATED_IMG_DIR]\n",
    "\n",
    "for dir in dirs:\n",
    "    os.makedirs(dir, exist_ok=True)"
   ]
  },
  {
   "cell_type": "markdown",
   "metadata": {},
   "source": [
    "# Vehicle Detection \n",
    "Detect vehicles in street-level images using a pre-trained YOLO-World model with SAHI."
   ]
  },
  {
   "cell_type": "markdown",
   "metadata": {},
   "source": [
    "## Initialize YOLO-World model\n",
    "Ref: https://doi.org/10.48550/arXiv.2401.17270"
   ]
  },
  {
   "cell_type": "code",
   "execution_count": 14,
   "metadata": {},
   "outputs": [],
   "source": [
    "model = YOLOWorld(\"models/yolov8x-world.pt\")  \n",
    "model.set_classes([\"car\"]) "
   ]
  },
  {
   "cell_type": "markdown",
   "metadata": {},
   "source": [
    "## Use YOLO-World with SAHI for Sliced Inference\n",
    "\n",
    "- https://github.com/obss/sahi\n",
    "- https://doi.org/10.1109/ICIP46576.2022.9897990\n",
    "- https://doi.org/10.5281/zenodo.5718950\n",
    "      "
   ]
  },
  {
   "cell_type": "code",
   "execution_count": null,
   "metadata": {},
   "outputs": [],
   "source": [
    "for image_path in tqdm(ORIGINAL_IMAGE_PATHS, desc=\"Processing images\"):\n",
    "        print(f\"Processing {image_path}...\")\n",
    "        detect_cars(\n",
    "        image_path=image_path,\n",
    "        output_dir=Path(DETECTION_DIR),\n",
    "        model=model,\n",
    "        slice_height=320, #depending on the expected minimal object size\n",
    "        slice_width=320,\n",
    "        overlap_height_ratio=0.1,\n",
    "        overlap_width_ratio=0.1,\n",
    "        confidence_threshold=0.25,\n",
    "        save_labels=True,\n",
    "        save_visuals=True,\n",
    "        verbose=True,\n",
    "    )\n",
    "        \n",
    "\n",
    "# TODO fix the case of bigger objects occupying bigger part of the image"
   ]
  },
  {
   "cell_type": "markdown",
   "metadata": {},
   "source": [
    "### Visualize car detection results"
   ]
  },
  {
   "cell_type": "code",
   "execution_count": null,
   "metadata": {},
   "outputs": [],
   "source": [
    "visualize_random_batch(ORIGINAL_IMAGE_DIR, LABEL_DIR, batch_size=1)"
   ]
  },
  {
   "cell_type": "markdown",
   "metadata": {},
   "source": [
    "# Region Extraction & Contextual Expansion \n",
    "Crop detected vehicle regions with a 20% bounding box enlargement to include flood indicators and contextual cues."
   ]
  },
  {
   "cell_type": "code",
   "execution_count": null,
   "metadata": {},
   "outputs": [],
   "source": [
    "crop_detected_vehicles(ORIGINAL_IMAGE_DIR, LABEL_DIR, CROPPED_DIR, scale=1.2, verbose=False)\n",
    "print(f'{len([f for f in os.listdir(CROPPED_DIR) if os.path.isfile(os.path.join(CROPPED_DIR, f))])} images saved')"
   ]
  },
  {
   "cell_type": "markdown",
   "metadata": {},
   "source": [
    "# Super-Resolution Enhancement \n",
    "Apply pre-trained Enhanced Deep Super-Resolution (EDSR) networks to improve image quality.\n",
    "https://doi.org/10.48550/arXiv.1707.02921 "
   ]
  },
  {
   "cell_type": "code",
   "execution_count": null,
   "metadata": {},
   "outputs": [],
   "source": [
    "# Initialize and load Super-Resolution models with different scales\n",
    "sr_models = {\n",
    "    4: dnn_superres.DnnSuperResImpl_create(),\n",
    "    3: dnn_superres.DnnSuperResImpl_create(),\n",
    "    2: dnn_superres.DnnSuperResImpl_create()\n",
    "}\n",
    "\n",
    "for scale, sr in sr_models.items():\n",
    "    model_path = f\"./models/EDSR_x{scale}.pb\"  # TODO ADD MODEL DOWNLOAD\n",
    "    sr.readModel(model_path)\n",
    "    sr.setModel(\"edsr\", scale)"
   ]
  },
  {
   "cell_type": "code",
   "execution_count": null,
   "metadata": {},
   "outputs": [],
   "source": [
    "folder_stats = {\n",
    "    'min_size': float('inf'),\n",
    "    'max_size': 0,\n",
    "    'below_200_count': 0,\n",
    "    'below_100_count': 0,\n",
    "    'below_50_count': 0\n",
    "}\n",
    "\n",
    "\n",
    "image_paths = [os.path.join(CROPPED_DIR, f) for f in os.listdir(CROPPED_DIR) if f.lower().endswith(IMAGE_EXTENSIONS)]\n",
    "\n",
    "for image_path in image_paths:\n",
    "    image = cv2.imread(str(image_path))\n",
    "    if image is None:\n",
    "        continue\n",
    "\n",
    "    height, width = image.shape[:2]\n",
    "    size = max(height, width)\n",
    "\n",
    "    folder_stats['min_size'] = min(folder_stats['min_size'], size)\n",
    "    folder_stats['max_size'] = max(folder_stats['max_size'], size)\n",
    "    folder_stats['below_200_count'] += (height < 200 or width < 200)\n",
    "    folder_stats['below_100_count'] += (height < 100 or width < 100)\n",
    "    folder_stats['below_50_count'] += (height < 50 or width < 50)\n",
    "\n",
    "print(\"-\" * 50)\n",
    "print(f\"Folder: {CROPPED_DIR}\")\n",
    "print(f\"Min size: {folder_stats['min_size']} pixels\")\n",
    "print(f\"Max size: {folder_stats['max_size']} pixels\")\n",
    "print(f\"Images below 200 pixels: {folder_stats['below_200_count']}\")\n",
    "print(f\"Images below 100 pixels: {folder_stats['below_100_count']}\")\n",
    "print(f\"Images below 50 pixels: {folder_stats['below_50_count']}\")\n",
    "print(\"-\" * 50)\n"
   ]
  },
  {
   "cell_type": "code",
   "execution_count": null,
   "metadata": {},
   "outputs": [],
   "source": [
    "superresolve_images(CROPPED_DIR, SUPERRESOLVED_DIR, sr_models, IMAGE_EXTENSIONS, sr_csv_path)"
   ]
  },
  {
   "cell_type": "markdown",
   "metadata": {},
   "source": [
    "# Flood Depth Classification \n",
    "Classify images based on flood depth levels using the fine-tuned ResNet50 model."
   ]
  },
  {
   "cell_type": "code",
   "execution_count": null,
   "metadata": {},
   "outputs": [],
   "source": [
    "# TODO ADD MODEL DOWNLOAD\n",
    "classifier_path = \"models/classifier.tar.gz\"\n",
    "extract_dir = \"models/classifier\"\n",
    "\n",
    "os.makedirs(extract_dir, exist_ok=True)\n",
    "\n",
    "with tarfile.open(classifier_path, \"r:gz\") as tar:\n",
    "    tar.extractall(path=extract_dir)\n",
    "\n",
    "print(f\"Model extracted to {extract_dir}\")"
   ]
  },
  {
   "cell_type": "code",
   "execution_count": null,
   "metadata": {},
   "outputs": [],
   "source": [
    "model_path = \"models/classifier/1\"\n",
    "\n",
    "model = tf.saved_model.load(model_path)\n",
    "\n",
    "\n",
    "print(\"Available signatures:\", list(model.signatures.keys()))\n",
    "inference_fn = model.signatures[\"serving_default\"]\n",
    "print(\"Input Signature:\", inference_fn.structured_input_signature)\n",
    "print(\"Output Signature:\", inference_fn.structured_outputs)\n",
    "\n",
    "labels_info_path = \"models/classifier/labels_info.json\"\n",
    "\n",
    "with open(labels_info_path, \"r\") as f:\n",
    "    labels_info = json.load(f)\n",
    "\n",
    "CLASS_LABELS = labels_info[\"labels\"]\n",
    "\n",
    "print(\"Class Labels:\", CLASS_LABELS)\n"
   ]
  },
  {
   "cell_type": "code",
   "execution_count": null,
   "metadata": {},
   "outputs": [],
   "source": [
    "sr_image_paths = [os.path.join(SUPERRESOLVED_DIR, f) for f in os.listdir(SUPERRESOLVED_DIR) if f.lower().endswith(IMAGE_EXTENSIONS)]\n",
    "\n",
    "# Run classification\n",
    "results = []\n",
    "for image_path in tqdm(sr_image_paths, desc=\"Classifying Images\", unit=\"image\"):\n",
    "    img_bytes = load_image_as_bytes(image_path)\n",
    "\n",
    "    predictions = inference_fn(bytes_inputs=img_bytes)[\"output_0\"].numpy()[0]\n",
    "\n",
    "    # Get predicted label\n",
    "    predicted_label = CLASS_LABELS[predictions.argmax()]\n",
    "    results.append([image_path, predicted_label, *predictions])\n",
    "\n",
    "# Convert to DataFrame with tidy format\n",
    "df = pd.DataFrame(results, columns=[\"image_path\", \"predicted_label\"] + CLASS_LABELS)\n",
    "\n",
    "# Save to CSV\n",
    "df.to_csv(ic_csv_path, index=False)\n",
    "print(f\"Classification results saved to {ic_csv_path}\")\n"
   ]
  },
  {
   "cell_type": "markdown",
   "metadata": {},
   "source": [
    "## Results Visualization"
   ]
  },
  {
   "cell_type": "code",
   "execution_count": null,
   "metadata": {},
   "outputs": [],
   "source": [
    "# Load classification results\n",
    "df = pd.read_csv(ic_csv_path)\n",
    "\n",
    "# Show class distribution\n",
    "print(\"Class Distribution:\\n\", df[\"predicted_label\"].value_counts().to_string())\n",
    "\n",
    "# Display random sample\n",
    "sample_df = df.sample(min(5, len(df)))\n",
    "\n",
    "for _, row in sample_df.iterrows():\n",
    "    img_path = row[\"image_path\"]\n",
    "    predicted_label = row[\"predicted_label\"]\n",
    "    \n",
    "    class_probs = row.iloc[2:].to_dict()\n",
    "    sorted_probs = sorted(class_probs.items(), key=lambda x: x[1], reverse=True)\n",
    "\n",
    "    display(\n",
    "        HTML(\n",
    "            f'<img src=\"{img_path}\" style=\"width: 250px;\"/>'\n",
    "            f\"<figcaption>Predicted: {predicted_label} ({sorted_probs[0][1]:.2%})<br>\"\n",
    "            f\"Probabilities: {', '.join([f'{k}: {v:.2%}' for k, v in sorted_probs])}</figcaption>\"\n",
    "        )\n",
    "    )"
   ]
  },
  {
   "cell_type": "markdown",
   "metadata": {},
   "source": [
    "## On original image"
   ]
  },
  {
   "cell_type": "code",
   "execution_count": null,
   "metadata": {},
   "outputs": [],
   "source": [
    "LEVELS_YOLO_ANNOTATIONS_DIR = f\"{OUTPUT_DIR}/levels_yolo_annotations/\"\n",
    "os.makedirs(LEVELS_YOLO_ANNOTATIONS_DIR, exist_ok=True)\n",
    "\n",
    "CLASS_LABELS_TO_ID = {label: idx for idx, label in enumerate(CLASS_LABELS)}\n",
    "\n",
    "# Load classification results\n",
    "df = pd.read_csv(ic_csv_path)\n",
    "\n",
    "# Extract original image name and detection index\n",
    "df[\"original_image\"] = df[\"image_path\"].apply(lambda x: \"_\".join(os.path.basename(x).split(\"_\")[:-1]) + \".jpg\")\n",
    "df[\"detection_index\"] = df[\"image_path\"].apply(lambda x: int(os.path.basename(x).split(\"_\")[-1].split(\".\")[0]))\n",
    "\n",
    "# Iterate through each image\n",
    "for image_file in os.listdir(ORIGINAL_IMAGE_DIR):\n",
    "    if not image_file.lower().endswith(IMAGE_EXTENSIONS):\n",
    "        continue  # Skip non-image files\n",
    "\n",
    "    image_path = os.path.join(ORIGINAL_IMAGE_DIR, image_file)\n",
    "    label_path = os.path.join(LABEL_DIR, os.path.splitext(image_file)[0] + \".txt\")\n",
    "    lvl_yolo_annotation_path = os.path.join(LEVELS_YOLO_ANNOTATIONS_DIR, os.path.splitext(image_file)[0] + \".txt\")\n",
    "\n",
    "    if not os.path.exists(label_path):\n",
    "        print(f\"Skipping {image_file}: No YOLO-World labels found.\")\n",
    "        continue\n",
    "\n",
    "    # Load image\n",
    "    image = cv2.imread(image_path)\n",
    "    if image is None:\n",
    "        print(f\"Skipping {image_file}: Could not load image.\")\n",
    "        continue\n",
    "\n",
    "    # Load YOLO labels (bounding boxes)\n",
    "    with open(label_path, \"r\") as f:\n",
    "        detections = [list(map(float, line.strip().split())) for line in f]\n",
    "\n",
    "    if not detections:\n",
    "        print(f\"Skipping {image_file}: No detections found.\")\n",
    "        continue\n",
    "\n",
    "    # Filter classifications for this image and sort by detection index\n",
    "    image_df = df[df[\"original_image\"] == image_file].sort_values(by=\"detection_index\")\n",
    "\n",
    "    # Class counts\n",
    "    class_counts = {level: 0 for level in df.columns[2:-2]}  # Dynamically get class labels\n",
    "\n",
    "    img_height, img_width = image.shape[:2]\n",
    "\n",
    "    fig, ax = plt.subplots(figsize=(12, 8))\n",
    "    ax.imshow(cv2.cvtColor(image, cv2.COLOR_BGR2RGB))\n",
    "    ax.set_title(rf\"\\textbf{{{image_file}}}\")\n",
    "    ax.axis(\"off\")\n",
    "\n",
    "    text_annotations = []  # Store text annotations for adjustment\n",
    "    yolo_annotations = []  # Store YOLO-formatted annotations\n",
    "\n",
    "    for (detection, (_, row)) in zip(detections, image_df.iterrows()):\n",
    "        class_id, x_center, y_center, width, height = detection\n",
    "        x1 = int((x_center - width / 2) * img_width)\n",
    "        y1 = int((y_center - height / 2) * img_height)\n",
    "        x2 = int((x_center + width / 2) * img_width)\n",
    "        y2 = int((y_center + height / 2) * img_height)\n",
    "\n",
    "        predicted_label = row[\"predicted_label\"]\n",
    "        probability = row[predicted_label]  # Get confidence score\n",
    "\n",
    "        class_counts[predicted_label] += 1\n",
    "        yolo_class_id = CLASS_LABELS_TO_ID[predicted_label]  # Get corresponding class ID\n",
    "\n",
    "        ax.add_patch(plt.Rectangle((x1, y1), x2 - x1, y2 - y1, linewidth=2, edgecolor=\"darkred\", facecolor=\"none\"))\n",
    "\n",
    "        # Convert to YOLO format (normalized coordinates)\n",
    "        yolo_x_center = x_center\n",
    "        yolo_y_center = y_center\n",
    "        yolo_width = width\n",
    "        yolo_height = height\n",
    "        yolo_annotations.append(f\"{yolo_class_id} {yolo_x_center:.6f} {yolo_y_center:.6f} {yolo_width:.6f} {yolo_height:.6f} {probability:.4f}\")\n",
    "\n",
    "        label_text = f\"{predicted_label.replace('Level', 'L')}: {probability:.0%} %\"\n",
    "        text_annotations.append(ax.text(x1, y1 - 10, label_text, fontsize=10, color=\"darkred\"))\n",
    "\n",
    "    adjust_text(\n",
    "        text_annotations,\n",
    "        expand_points=(1.2, 1.4),\n",
    "        arrowprops=dict(arrowstyle=\"-\", color=\"black\", lw=0.5),\n",
    "    )\n",
    "\n",
    "    class_text = \"\\n\".join([rf\"\\textbf{{{k}}}: {v}\" for k, v in class_counts.items()])\n",
    "    plt.text(img_width + 10, img_height // 4, class_text, fontsize=12, verticalalignment=\"top\", color=\"black\")\n",
    "\n",
    "        # Save YOLO-formatted labels\n",
    "    with open(lvl_yolo_annotation_path, \"w\") as f:\n",
    "        f.write(\"\\n\".join(yolo_annotations))\n",
    "    print(f\"YOLO annotation saved to {lvl_yolo_annotation_path}\")\n",
    "\n",
    "    output_image_path = os.path.join(ANNOTATED_IMG_DIR, image_file)\n",
    "    plt.savefig(output_image_path, bbox_inches=\"tight\", pad_inches=0.2)\n",
    "    plt.show()\n",
    "\n",
    "    print(f\"Annotated image saved to {output_image_path}\")\n"
   ]
  }
 ],
 "metadata": {
  "kernelspec": {
   "display_name": ".venv",
   "language": "python",
   "name": "python3"
  },
  "language_info": {
   "codemirror_mode": {
    "name": "ipython",
    "version": 3
   },
   "file_extension": ".py",
   "mimetype": "text/x-python",
   "name": "python",
   "nbconvert_exporter": "python",
   "pygments_lexer": "ipython3",
   "version": "3.11.5"
  }
 },
 "nbformat": 4,
 "nbformat_minor": 2
}
